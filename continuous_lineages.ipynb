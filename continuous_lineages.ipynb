{
 "cells": [
  {
   "cell_type": "code",
   "execution_count": 1,
   "metadata": {},
   "outputs": [
    {
     "name": "stderr",
     "output_type": "stream",
     "text": [
      "/Users/nicholasrossi/anaconda/lib/python3.5/site-packages/sklearn/utils/fixes.py:313: FutureWarning: numpy not_equal will not check object identity in the future. The comparison did not return the same result as suggested by the identity (`is`)) and will change.\n",
      "  _nan_object_mask = _nan_object_array != _nan_object_array\n"
     ]
    }
   ],
   "source": [
    "import random\n",
    "import numpy as np\n",
    "from scipy import stats\n",
    "from os import listdir\n",
    "import matplotlib.pyplot as plt\n",
    "import scipy.io as sio\n",
    "import matplotlib.cm as cm\n",
    "import numpy as np\n",
    "import matplotlib.patches as mpatches\n",
    "import scipy.stats as sp\n",
    "import pandas as pd\n",
    "from scipy.optimize import curve_fit\n",
    "import seaborn as sns\n",
    "import matplotlib\n",
    "from sklearn import linear_model\n",
    "from matplotlib.colors import LinearSegmentedColormap\n",
    "\n",
    "plt.style.use('rossidata')\n"
   ]
  },
  {
   "cell_type": "code",
   "execution_count": 5,
   "metadata": {},
   "outputs": [],
   "source": [
    "folder='data/rob_collected'\n",
    "\n",
    "names = listdir(folder)\n",
    "\n",
    "if '.DS_Store' in names:\n",
    "    names.remove('.DS_Store')\n",
    "\n",
    "names= [folder+'/'+ name for name in names]\n",
    "\n"
   ]
  },
  {
   "cell_type": "code",
   "execution_count": 6,
   "metadata": {},
   "outputs": [],
   "source": [
    "### creation of dataframe\n",
    "InitialAu=np.array([])\n",
    "Deathtime=np.array([])\n",
    "for name in names:\n",
    "    mat_contents = sio.loadmat(name)\n",
    "    InitialAu=np.append(InitialAu,mat_contents['data'][:,20])\n",
    "    Deathtime=np.append(Deathtime,mat_contents['data'][:,-1])\n",
    "    \n",
    "d = {'InitialAu': InitialAu, 'DeathTime': Deathtime}\n",
    "df = pd.DataFrame(data=d)"
   ]
  },
  {
   "cell_type": "code",
   "execution_count": 198,
   "metadata": {},
   "outputs": [],
   "source": [
    "### creation of progress matrix\n",
    "progress_matrix=np.zeros((61,len(df)))\n",
    "progress_matrix[:]=np.nan\n",
    "df['DeathTime'][df['DeathTime']==-1]=62\n",
    "df['DeathTime'][df['DeathTime']==0]=np.nan\n",
    "positions=np.arange(len(df))\n",
    "for r in range(61):\n",
    "    progress_matrix[r,np.asarray(df['DeathTime']>=r)]=df['InitialAu'][df['DeathTime']>=r]"
   ]
  },
  {
   "cell_type": "code",
   "execution_count": 201,
   "metadata": {},
   "outputs": [
    {
     "data": {
      "image/png": "[encoded data removed]",
      "text/plain": [
       "<matplotlib.figure.Figure at 0x1a361b6eb8>"
      ]
     },
     "execution_count": 201,
     "metadata": {},
     "output_type": "execute_result"
    }
   ],
   "source": [
    "plt.close('all')\n",
    "fig,ax=plt.subplots()\n",
    "cmap1 = LinearSegmentedColormap.from_list(\"my_colormap\",\n",
    "                                          ((58 / 255, 28 / 255, 113 / 255), (1, 136 / 255, 136 / 255)), N=61,\n",
    "                                          gamma=1.0)\n",
    "bins=np.logspace(3.3,3.9,30)\n",
    "bins=np.linspace(500,5000,100)\n",
    "for r in range(61):\n",
    "    data=progress_matrix[r,:]\n",
    "    probs, bons = np.histogram(data[~np.isnan(data)], normed='True', bins=bins)\n",
    "    ax.plot(bons[1:], np.cumsum(probs / np.sum(probs)), color=cmap1(r), drawstyle='steps-pre')\n",
    "#ax.set_xscale('log')\n",
    "fig\n",
    "\n"
   ]
  },
  {
   "cell_type": "code",
   "execution_count": 184,
   "metadata": {},
   "outputs": [
    {
     "ename": "ValueError",
     "evalue": "could not broadcast input array from shape (266) into shape (373)",
     "output_type": "error",
     "traceback": [
      "\u001b[0;31m---------------------------------------------------------------------------\u001b[0m",
      "\u001b[0;31mValueError\u001b[0m                                Traceback (most recent call last)",
      "\u001b[0;32m<ipython-input-184-a811de5ad92c>\u001b[0m in \u001b[0;36m<module>\u001b[0;34m()\u001b[0m\n\u001b[1;32m      1\u001b[0m \u001b[0mlogistic_matrix\u001b[0m\u001b[0;34m=\u001b[0m\u001b[0mprogress_matrix\u001b[0m\u001b[0;34m[\u001b[0m\u001b[0;34m:\u001b[0m\u001b[0;34m,\u001b[0m\u001b[0;34m~\u001b[0m\u001b[0mnp\u001b[0m\u001b[0;34m.\u001b[0m\u001b[0misnan\u001b[0m\u001b[0;34m(\u001b[0m\u001b[0mprogress_matrix\u001b[0m\u001b[0;34m[\u001b[0m\u001b[0;36m0\u001b[0m\u001b[0;34m,\u001b[0m\u001b[0;34m:\u001b[0m\u001b[0;34m]\u001b[0m\u001b[0;34m)\u001b[0m\u001b[0;34m]\u001b[0m\u001b[0;34m\u001b[0m\u001b[0m\n\u001b[0;32m----> 2\u001b[0;31m \u001b[0minitialAu\u001b[0m\u001b[0;34m[\u001b[0m\u001b[0;34m:\u001b[0m\u001b[0;34m]\u001b[0m\u001b[0;34m=\u001b[0m\u001b[0mlogistic_matrix\u001b[0m\u001b[0;34m[\u001b[0m\u001b[0;36m0\u001b[0m\u001b[0;34m,\u001b[0m\u001b[0;34m:\u001b[0m\u001b[0;34m]\u001b[0m\u001b[0;34m\u001b[0m\u001b[0m\n\u001b[0m\u001b[1;32m      3\u001b[0m \u001b[0;32mfor\u001b[0m \u001b[0mr\u001b[0m \u001b[0;32min\u001b[0m \u001b[0mrange\u001b[0m\u001b[0;34m(\u001b[0m\u001b[0;36m61\u001b[0m\u001b[0;34m)\u001b[0m\u001b[0;34m:\u001b[0m\u001b[0;34m\u001b[0m\u001b[0m\n\u001b[1;32m      4\u001b[0m     \u001b[0mlogistic_matrix\u001b[0m\u001b[0;34m[\u001b[0m\u001b[0mr\u001b[0m\u001b[0;34m,\u001b[0m\u001b[0;34m:\u001b[0m\u001b[0;34m]\u001b[0m\u001b[0;34m=\u001b[0m\u001b[0;34m[\u001b[0m\u001b[0;34m~\u001b[0m\u001b[0mnp\u001b[0m\u001b[0;34m.\u001b[0m\u001b[0misnan\u001b[0m\u001b[0;34m(\u001b[0m\u001b[0mlogistic_matrix\u001b[0m\u001b[0;34m[\u001b[0m\u001b[0mr\u001b[0m\u001b[0;34m,\u001b[0m\u001b[0;34m:\u001b[0m\u001b[0;34m]\u001b[0m\u001b[0;34m)\u001b[0m\u001b[0;34m]\u001b[0m\u001b[0;34m[\u001b[0m\u001b[0;36m0\u001b[0m\u001b[0;34m]\u001b[0m\u001b[0;34m*\u001b[0m\u001b[0;36m1\u001b[0m\u001b[0;34m\u001b[0m\u001b[0m\n\u001b[1;32m      5\u001b[0m \u001b[0;31m# clf = linear_model.LogisticRegression(C=1e5, solver='lbfgs')\u001b[0m\u001b[0;34m\u001b[0m\u001b[0;34m\u001b[0m\u001b[0m\n",
      "\u001b[0;31mValueError\u001b[0m: could not broadcast input array from shape (266) into shape (373)"
     ]
    }
   ],
   "source": [
    "logistic_matrix=progress_matrix[:,~np.isnan(progress_matrix[0,:])]\n",
    "initialAu[:]=logistic_matrix[0,:]\n",
    "for r in range(61):\n",
    "    logistic_matrix[r,:]=[~np.isnan(logistic_matrix[r,:])][0]*1\n",
    "# clf = linear_model.LogisticRegression(C=1e5, solver='lbfgs')\n",
    "# clf.fit(progress_matrix[r,:], y)\n",
    "logistic_matrix\n",
    "\n",
    "clf = linear_model.LogisticRegression(C=1e5, solver='lbfgs')\n",
    "clf.fit(initialAu.reshape(-1, 1), logistic_matrix[20,:].reshape(-1, 1).ravel())"
   ]
  },
  {
   "cell_type": "code",
   "execution_count": null,
   "metadata": {},
   "outputs": [],
   "source": [
    "plt.close('all')\n",
    "fig,ax=plt.subplots()\n",
    "X_test=np.logspace(3,4,1000)\n",
    "X=initialAu\n",
    "\n",
    "def model(x):\n",
    "    return 1 / (1 + np.exp(-x))\n",
    "for z in range(50):\n",
    "\n",
    "    clf.fit(initialAu.reshape(-1, 1), logistic_matrix[z+11,:].reshape(-1, 1).ravel())\n",
    "    loss = model(X_test * clf.coef_ + clf.intercept_).ravel()\n",
    "    ax.plot(X_test, loss, color=cmap1(z), linewidth=1)\n",
    "\n",
    "fig"
   ]
  },
  {
   "cell_type": "code",
   "execution_count": 18,
   "metadata": {},
   "outputs": [],
   "source": [
    "folders = ['dnaq_collected', 'fis_collected', 'tonb_collected', 'codb_collected', 'marrab_collected',\n",
    "           'gadx_collected', 'crp_collected', 'ompf_collected', 'sigma_collected', 'soxs_collected',\n",
    "           'purA_collected', 'hdea_collected', 'rob_collected','rnbp1_collected','acrab_collected','inaa_collected','rpst_collected']\n"
   ]
  },
  {
   "cell_type": "code",
   "execution_count": 21,
   "metadata": {},
   "outputs": [],
   "source": [
    "#dataload\n",
    "\n",
    "for folder0 in folders:\n",
    "    plt.close('all')\n",
    "    folder='data/'+folder0\n",
    "\n",
    "    names = listdir(folder)\n",
    "\n",
    "    if '.DS_Store' in names:\n",
    "        names.remove('.DS_Store')\n",
    "\n",
    "    names= [folder+'/'+ name for name in names]\n",
    "\n",
    "\n",
    "    ### creation of dataframe\n",
    "    InitialAu=np.array([])\n",
    "    Deathtime=np.array([])\n",
    "    for name in names:\n",
    "        mat_contents = sio.loadmat(name)\n",
    "        InitialAu=np.append(InitialAu,mat_contents['data'][:,20])\n",
    "        Deathtime=np.append(Deathtime,mat_contents['data'][:,-1])\n",
    "\n",
    "        d = {'InitialAu': InitialAu, 'DeathTime': Deathtime}\n",
    "        df = pd.DataFrame(data=d)\n",
    "        df['DeathTime'][df['DeathTime']==-1]=62\n",
    "        df['DeathTime'][df['DeathTime']==0]=np.nan\n",
    "\n",
    "        fig2,ax2=plt.subplots()\n",
    "        df=df.dropna()\n",
    "        s={'fluor':df['InitialAu'],'death':5*df['DeathTime']}\n",
    "        sd=pd.DataFrame(s)\n",
    "        sd=sd.sort_values(by='fluor')\n",
    "        n_splits=10\n",
    "        rez=np.array_split(sd, n_splits)\n",
    "        column_num=10\n",
    "        bins=np.linspace(0,300,column_num)-10\n",
    "        grid=np.zeros((n_splits,column_num-1))\n",
    "        labels=np.zeros((n_splits,column_num-1))\n",
    "        mins=[]\n",
    "    for x in range(n_splits):\n",
    "        mino,maxo=min(rez[x].fluor),max(rez[x].fluor)\n",
    "        grid[x,:]=np.cumsum(np.histogram(rez[x].death, bins=bins)[0]/len(rez[x].death))\n",
    "        labels[x,:]=np.histogram(rez[x].death, bins=bins)[0]\n",
    "        mins.append(int(mino))\n",
    "\n",
    "    sns.heatmap(np.flipud(grid)*100,yticklabels=np.flipud(mins),xticklabels=bins[1:],cmap=\"rainbow\",vmin=0, vmax=100,cbar_kws={'label': '% chance of death'})\n",
    "    ax2.set_xlabel('Time (minutes)')\n",
    "    ax2.set_ylabel('Fluorescence at t0 (A.U)')\n",
    "    ax2.set_title(str(folder0.split('_')[0]))\n",
    "    fig2.savefig('figures/'+folder0.split('_')[0]+'.png',dpi=300)"
   ]
  },
  {
   "cell_type": "code",
   "execution_count": null,
   "metadata": {},
   "outputs": [],
   "source": [
    "df.dropna()"
   ]
  },
  {
   "cell_type": "code",
   "execution_count": 177,
   "metadata": {},
   "outputs": [
    {
     "ename": "NameError",
     "evalue": "name 'dataz' is not defined",
     "output_type": "error",
     "traceback": [
      "\u001b[0;31m---------------------------------------------------------------------------\u001b[0m",
      "\u001b[0;31mNameError\u001b[0m                                 Traceback (most recent call last)",
      "\u001b[0;32m<ipython-input-177-715fa3adbcd5>\u001b[0m in \u001b[0;36m<module>\u001b[0;34m()\u001b[0m\n\u001b[0;32m----> 1\u001b[0;31m \u001b[0md\u001b[0m \u001b[0;34m=\u001b[0m \u001b[0;34m{\u001b[0m\u001b[0;34m'Dead'\u001b[0m\u001b[0;34m:\u001b[0m \u001b[0mnp\u001b[0m\u001b[0;34m.\u001b[0m\u001b[0mzeros\u001b[0m\u001b[0;34m(\u001b[0m\u001b[0mlen\u001b[0m\u001b[0;34m(\u001b[0m\u001b[0mdataz\u001b[0m\u001b[0;34m[\u001b[0m\u001b[0;36m0\u001b[0m\u001b[0;34m]\u001b[0m\u001b[0;34m)\u001b[0m\u001b[0;34m)\u001b[0m\u001b[0;34m,\u001b[0m \u001b[0;34m'AU'\u001b[0m\u001b[0;34m:\u001b[0m \u001b[0mdataz\u001b[0m\u001b[0;34m[\u001b[0m\u001b[0;36m0\u001b[0m\u001b[0;34m]\u001b[0m\u001b[0;34m}\u001b[0m\u001b[0;34m\u001b[0m\u001b[0m\n\u001b[0m\u001b[1;32m      2\u001b[0m \u001b[0mdf\u001b[0m \u001b[0;34m=\u001b[0m \u001b[0mpd\u001b[0m\u001b[0;34m.\u001b[0m\u001b[0mDataFrame\u001b[0m\u001b[0;34m(\u001b[0m\u001b[0mdata\u001b[0m\u001b[0;34m=\u001b[0m\u001b[0md\u001b[0m\u001b[0;34m)\u001b[0m\u001b[0;34m\u001b[0m\u001b[0m\n\u001b[1;32m      3\u001b[0m \u001b[0;34m\u001b[0m\u001b[0m\n\u001b[1;32m      4\u001b[0m \u001b[0md\u001b[0m \u001b[0;34m=\u001b[0m \u001b[0;34m{\u001b[0m\u001b[0;34m'Dead'\u001b[0m\u001b[0;34m:\u001b[0m \u001b[0mnp\u001b[0m\u001b[0;34m.\u001b[0m\u001b[0mones\u001b[0m\u001b[0;34m(\u001b[0m\u001b[0mlen\u001b[0m\u001b[0;34m(\u001b[0m\u001b[0mdataz\u001b[0m\u001b[0;34m[\u001b[0m\u001b[0;36m1\u001b[0m\u001b[0;34m]\u001b[0m\u001b[0;34m[\u001b[0m\u001b[0mdataz\u001b[0m\u001b[0;34m[\u001b[0m\u001b[0;36m1\u001b[0m\u001b[0;34m]\u001b[0m\u001b[0;34m<\u001b[0m\u001b[0;36m10000\u001b[0m\u001b[0;34m]\u001b[0m\u001b[0;34m)\u001b[0m\u001b[0;34m)\u001b[0m\u001b[0;34m,\u001b[0m \u001b[0;34m'AU'\u001b[0m\u001b[0;34m:\u001b[0m \u001b[0mdataz\u001b[0m\u001b[0;34m[\u001b[0m\u001b[0;36m1\u001b[0m\u001b[0;34m]\u001b[0m\u001b[0;34m[\u001b[0m\u001b[0mdataz\u001b[0m\u001b[0;34m[\u001b[0m\u001b[0;36m1\u001b[0m\u001b[0;34m]\u001b[0m\u001b[0;34m<\u001b[0m\u001b[0;36m10000\u001b[0m\u001b[0;34m]\u001b[0m\u001b[0;34m}\u001b[0m\u001b[0;34m\u001b[0m\u001b[0m\n\u001b[1;32m      5\u001b[0m \u001b[0mdf2\u001b[0m \u001b[0;34m=\u001b[0m \u001b[0mpd\u001b[0m\u001b[0;34m.\u001b[0m\u001b[0mDataFrame\u001b[0m\u001b[0;34m(\u001b[0m\u001b[0mdata\u001b[0m\u001b[0;34m=\u001b[0m\u001b[0md\u001b[0m\u001b[0;34m)\u001b[0m\u001b[0;34m\u001b[0m\u001b[0m\n",
      "\u001b[0;31mNameError\u001b[0m: name 'dataz' is not defined"
     ]
    }
   ],
   "source": [
    "d = {'Dead': np.zeros(len(dataz[0])), 'AU': dataz[0]}\n",
    "df = pd.DataFrame(data=d)\n",
    "\n",
    "d = {'Dead': np.ones(len(dataz[1][dataz[1]<10000])), 'AU': dataz[1][dataz[1]<10000]}\n",
    "df2 = pd.DataFrame(data=d)"
   ]
  },
  {
   "cell_type": "code",
   "execution_count": 178,
   "metadata": {},
   "outputs": [
    {
     "ename": "NameError",
     "evalue": "name 'df2' is not defined",
     "output_type": "error",
     "traceback": [
      "\u001b[0;31m---------------------------------------------------------------------------\u001b[0m",
      "\u001b[0;31mNameError\u001b[0m                                 Traceback (most recent call last)",
      "\u001b[0;32m<ipython-input-178-ce05e6ff61b8>\u001b[0m in \u001b[0;36m<module>\u001b[0;34m()\u001b[0m\n\u001b[0;32m----> 1\u001b[0;31m \u001b[0mframes\u001b[0m \u001b[0;34m=\u001b[0m \u001b[0;34m[\u001b[0m\u001b[0mdf\u001b[0m\u001b[0;34m,\u001b[0m \u001b[0mdf2\u001b[0m\u001b[0;34m]\u001b[0m\u001b[0;34m\u001b[0m\u001b[0m\n\u001b[0m\u001b[1;32m      2\u001b[0m \u001b[0mresult\u001b[0m \u001b[0;34m=\u001b[0m \u001b[0mpd\u001b[0m\u001b[0;34m.\u001b[0m\u001b[0mconcat\u001b[0m\u001b[0;34m(\u001b[0m\u001b[0mframes\u001b[0m\u001b[0;34m)\u001b[0m\u001b[0;34m\u001b[0m\u001b[0m\n",
      "\u001b[0;31mNameError\u001b[0m: name 'df2' is not defined"
     ]
    }
   ],
   "source": [
    "frames = [df, df2]\n",
    "result = pd.concat(frames)"
   ]
  },
  {
   "cell_type": "code",
   "execution_count": 43,
   "metadata": {},
   "outputs": [
    {
     "data": {
      "image/png": "[encoded data removed]",
      "text/plain": [
       "<matplotlib.figure.Figure at 0x1a2f2dcc18>"
      ]
     },
     "metadata": {},
     "output_type": "display_data"
    }
   ],
   "source": [
    "plt.close('all')\n",
    "g = sns.lmplot(x=\"AU\", y=\"Dead\", data=result, y_jitter=.02, logistic=True)\n",
    "plt.show()"
   ]
  },
  {
   "cell_type": "code",
   "execution_count": 42,
   "metadata": {},
   "outputs": [
    {
     "data": {
      "text/plain": [
       "array([ 42.,  34.,  31.,  29.,  30.,  29.,  30.,  31.,  38.,  28.,  38.,\n",
       "        45.,  35.,  47.,  32.,  50.,  18.,  31.,  50.,  50.,  31.,  47.,\n",
       "        22.,  34.,  41.,  33.,  50.,  37.,  33.,  50.,  37.,  50.,  36.,\n",
       "        31.,  36.,  30.,  39.,  27.,  42.,  50.,  50.,  50.,  19.,  47.,\n",
       "        50.,  44.,  35.,  50.,   9.,  24.,  50.,  47.,  32.,  36.,  50.,\n",
       "        19.,  35.,  39.,  27.,  48.,  43.,  41.,  43.,  17.,  40.,  10.,\n",
       "        17.,  45.,  33.,  37.,  37.,  31.,  33.,  46.,  34.,  21.,  21.,\n",
       "        45.,  27.,  50.,  21.,  50.,  22.,  48.,  38.,  30.,  50.,  32.,\n",
       "        23.,  50.,  31.,  50.,  19.,  36.,  50.,  38.,   9.,  38.,  50.,\n",
       "        25.,  49.,  28.,  38.,  50.,  46.,  50.,  48.,  50.,  50.,  45.,\n",
       "        50.,  30.,  49.,  44.,  50.,  50.,  50.,  35.,  34.,  25.,  12.,\n",
       "        12.,  18.,  35.,  38.,  28.,  46.,  41.,  39.,  27.,  46.,  45.,\n",
       "        36.,  50.,  25.,  50.,  43.,  21.,  27.,  27.,  35.,  43.,  41.,\n",
       "        20.,  12.,  35.,  18.,  50.,  26.,  42.,  22.,  35.,  26.,  27.,\n",
       "        35.,  32.,  33.,  50.,  26.,  47.,  43.,  25.,  29.,  30.,  40.,\n",
       "        48.,  24.,  25.,  27.,  35.,  23.,  34.,  16.,  23.,  15.,  50.,\n",
       "        50.,  41.,  33.,  40.,  28.,  26.,  39.,  28.,  22.,  41.,  25.,\n",
       "        50.,  29.,  45.,  14.,  14.,  50.,  35.,  42.,  50.,  35.,  42.,\n",
       "        35.,  28.,  45.,  50.,  31.,  28.,  50.,  50.,  34.,  30.,  50.,\n",
       "        39.,  38.,   6.,  42.,  17.,  25.,  17.,  36.,  48.,  25.,  35.,\n",
       "        36.,  43.,  32.,  50.,  38.,  27.,  27.,  30.,  23.,  50.,  42.,\n",
       "        34.,  31.,  29.,  30.,  29.,  30.,  31.,  38.,  28.,  38.,  45.,\n",
       "        35.,  47.,  32.,  50.,  18.,  31.,  50.,  50.,  31.,  47.,  22.,\n",
       "        34.,  41.,  33.,  50.,  37.,  33.,  50.,  37.,  50.,  36.,  31.,\n",
       "        36.,  30.,  39.,  27.,  42.,  50.,  50.,  50.,  19.,  47.,  50.,\n",
       "        44.,  35.,  50.,   9.,  24.,  50.,  47.,  32.,  36.,  50.,  19.,\n",
       "        35.,  39.,  27.,  48.,  43.,  41.,  43.,  17.,  40.,  10.,  17.,\n",
       "        45.,  33.,  37.,  37.,  31.,  33.,  46.,  34.,  21.,  21.,  45.,\n",
       "        27.,  50.,  21.,  50.,  22.,  48.,  38.,  30.,  50.,  32.,  23.,\n",
       "        50.,  31.,  50.,  19.,  36.,  50.,  38.,   9.,  38.,  50.,  25.,\n",
       "        49.,  28.,  38.,  50.,  46.,  50.,  48.,  50.,  50.,  45.,  50.,\n",
       "        30.,  49.,  44.,  50.,  50.,  50.,  35.,  34.,  25.,  12.,  12.,\n",
       "        18.,  35.,  38.,  28.,  46.,  41.,  39.,  27.,  46.,  45.,  36.,\n",
       "        50.,  25.,  50.,  43.,  21.,  27.,  27.,  35.,  43.,  41.,  20.,\n",
       "        12.,  35.,  18.,  50.,  26.,  42.,  22.,  35.,  26.,  27.,  35.,\n",
       "        32.,  33.,  50.,  26.,  47.,  43.,  25.,  29.,  30.,  40.,  48.,\n",
       "        24.,  25.,  27.,  35.,  23.,  34.,  16.,  23.,  15.,  50.,  50.,\n",
       "        41.,  33.,  40.,  28.,  26.,  39.,  28.,  22.,  41.,  25.,  50.,\n",
       "        29.,  45.,  14.,  14.,  50.,  35.,  42.,  50.,  35.,  42.,  35.,\n",
       "        28.,  45.,  50.,  31.,  28.,  50.,  50.,  34.,  30.,  50.,  39.,\n",
       "        38.,   6.,  42.,  17.,  25.,  17.,  36.,  48.,  25.,  35.,  36.,\n",
       "        43.,  32.,  50.,  38.,  27.,  27.,  30.,  23.,  50.])"
      ]
     },
     "execution_count": 42,
     "metadata": {},
     "output_type": "execute_result"
    }
   ],
   "source": [
    "np.append(deathframes,np.ones(len(dataz[1]))*55)\n"
   ]
  },
  {
   "cell_type": "code",
   "execution_count": 43,
   "metadata": {},
   "outputs": [
    {
     "data": {
      "text/plain": [
       "array([ 4138.83908046,  5510.49446494,  3619.22099448,  3496.07272727,\n",
       "        3248.26785714,  5865.66141732,  3084.14107884,  2478.1025641 ,\n",
       "        3555.05095541,  8315.68548387,  3274.2755102 ,  4219.48427673,\n",
       "        4632.04545455,  4730.85142857,  3706.02666667,  3470.84615385,\n",
       "        3061.38285714,  3423.03333333,  2744.46078431,  3707.77439024,\n",
       "        3394.03139013,  2603.74545455,  3306.13609467,  3447.18367347,\n",
       "        3432.97826087,  4382.13385827,  4775.66141732,  4489.04761905,\n",
       "        3916.85074627,  2274.92957746,  6674.41489362,  3900.25806452,\n",
       "        3687.19178082,  3505.2189781 ,  6072.88461538,  4948.67222222,\n",
       "        2293.02857143,  4736.47783251,  4065.96216216,  7609.32666667,\n",
       "        4527.98064516,  6935.24042553,  3469.88288288,  3246.46330275,\n",
       "        3358.05179283,  5519.65811966,  3531.48356808,  3319.25308642,\n",
       "        3985.38095238,  3009.22413793,  4697.85993485,  3901.48618785,\n",
       "        5210.69230769,  4730.38095238,  3479.97087379,  4452.76623377,\n",
       "        4220.07352941,  6580.075     ,  3780.81045752,  4912.71551724,\n",
       "        3190.37647059,  3280.80172414,  2126.36574074,  2582.71653543,\n",
       "        4533.0349345 ,  2618.40310078,  3204.51219512,  4020.13513514,\n",
       "        2880.21634615,  2682.73103448,  2068.26666667,  4749.22404372,\n",
       "        2529.97916667,  3895.34732824,  4142.77083333,  3907.4382716 ,\n",
       "        3388.69402985,  3201.6173913 ,  3974.20754717,  3610.68831169,\n",
       "        3246.59322034,  3286.60416667,  2844.01935484,  2701.35403727,\n",
       "        2932.59685864,  3814.7921147 ,  2870.9125    ,  2092.68656716,\n",
       "        4017.81818182,  3766.65359477,  2963.3627451 ,  3988.52972973,\n",
       "        3615.81443299,  2761.10569106,  2808.8203125 ,  6009.33333333,\n",
       "        3264.55212355,  3186.1092437 ,  3135.17857143,  4265.84432718,\n",
       "        2520.58181818,  2957.23870968,  3245.80246914,  2888.28846154,\n",
       "        3813.29508197,  2696.44701987,  3618.78873239,  2378.70048309,\n",
       "        4145.6626506 ,  3453.67532468,  3612.46031746,  3776.98765432,\n",
       "        2661.65306122,  4859.23323615,  3892.96407186,  4251.4084507 ,\n",
       "        4110.66063348,  4465.51037344,  9222.26923077,  3547.99641577,\n",
       "        3554.39814815,  3344.32110092,  3902.97802198,  4910.99224806,\n",
       "        5769.36585366,  4174.18421053,  4389.45762712,  3447.07407407,\n",
       "        3550.94360902,  2993.46153846,  4406.2991453 ,  4649.30107527,\n",
       "        4074.05102041,  3551.91608392,  3502.66412214,  3850.56521739,\n",
       "        4905.2300885 ,  4865.63114754,  2926.78106509,  1770.31410256,\n",
       "        4290.87029289,  3508.21925134,  3343.97196262,  3871.59433962,\n",
       "        4170.97546012,  4198.42358079,  3471.40111421,  4550.7231405 ,\n",
       "        3681.42331288,  4248.09278351,  3578.27678571,  3143.65979381,\n",
       "        4884.02702703,  4821.42142857,  4524.61417323,  5385.15686275,\n",
       "        4997.24475524,  3922.50641026,  4670.63793103,  4282.42675159,\n",
       "        4260.46527778,  3325.85106383,  4383.27642276,  4330.4957265 ,\n",
       "        4171.342723  ,  5506.46341463,  2353.27848101,  2943.94444444,\n",
       "        3317.21287129,  4344.09375   ,  3266.80246914,  3689.88235294,\n",
       "        4651.13821138,  2944.98245614,  4530.94074074,  5074.31168831,\n",
       "        3411.58125   ,  3562.48888889,  5156.60416667,  4379.56880734,\n",
       "        4650.13432836,  4698.8559322 ,  4846.34615385,  5340.7860262 ,\n",
       "        5193.82474227,  5346.94578313,  3929.9025974 ,  5548.7265625 ,\n",
       "        3503.34065934,  3495.58412698,  3990.21818182,  4062.92436975,\n",
       "        3635.31666667,  3328.6446281 ,  4483.26415094,  4764.74193548,\n",
       "        3625.69934641,  4131.66896552,  4394.67164179,  2910.7755102 ,\n",
       "        3400.53461538,  2785.98245614,  3866.80451128,  4646.41463415,\n",
       "        4507.09356725,  5524.94202899,  2127.98255814,  6251.18309859,\n",
       "        3782.03076923,  3730.12413793,  5702.59605911,  3816.1826087 ,\n",
       "        3914.89285714,  4098.09375   ,  3751.57943925,  5551.95454545,\n",
       "        2947.4921466 ,  2814.42424242,  3466.75806452,  3660.11627907,\n",
       "        4289.13218391,  7806.77540107,  2760.65217391,  3647.1865285 ,\n",
       "        4171.19626168,  3903.59322034,  3350.32743363,  2029.73333333,\n",
       "        4397.24626866,  4362.73737374])"
      ]
     },
     "execution_count": 43,
     "metadata": {},
     "output_type": "execute_result"
    }
   ],
   "source": [
    "dataz[0]"
   ]
  },
  {
   "cell_type": "code",
   "execution_count": 128,
   "metadata": {},
   "outputs": [],
   "source": [
    "df['DeathTime'][df['DeathTime']==0]=np.NaN"
   ]
  },
  {
   "cell_type": "code",
   "execution_count": null,
   "metadata": {},
   "outputs": [],
   "source": []
  }
 ],
 "metadata": {
  "anaconda-cloud": {},
  "kernelspec": {
   "display_name": "Python [conda root]",
   "language": "python",
   "name": "conda-root-py"
  },
  "language_info": {
   "codemirror_mode": {
    "name": "ipython",
    "version": 3
   },
   "file_extension": ".py",
   "mimetype": "text/x-python",
   "name": "python",
   "nbconvert_exporter": "python",
   "pygments_lexer": "ipython3",
   "version": "3.5.2"
  }
 },
 "nbformat": 4,
 "nbformat_minor": 1
}
