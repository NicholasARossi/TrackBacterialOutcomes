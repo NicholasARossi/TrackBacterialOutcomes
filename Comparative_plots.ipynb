{
 "cells": [
  {
   "cell_type": "code",
   "execution_count": 53,
   "metadata": {},
   "outputs": [],
   "source": [
    "import pandas as pd\n",
    "import numpy as np\n",
    "import matplotlib.pyplot as plt\n",
    "from scipy.stats import gaussian_kde\n",
    "from matplotlib import animation, rc\n",
    "from IPython.display import HTML\n",
    "import matplotlib.cm as cm\n",
    "import matplotlib.patches as mpatches\n",
    "from sklearn import linear_model\n",
    "import warnings\n",
    "warnings.filterwarnings('ignore')\n",
    "\n",
    "\n",
    "plt.style.use('rossidata')"
   ]
  },
  {
   "cell_type": "code",
   "execution_count": 2,
   "metadata": {},
   "outputs": [
    {
     "name": "stderr",
     "output_type": "stream",
     "text": [
      "/Users/nicholasrossi/anaconda/lib/python3.5/site-packages/ipykernel/__main__.py:2: SettingWithCopyWarning: \n",
      "A value is trying to be set on a copy of a slice from a DataFrame\n",
      "\n",
      "See the caveats in the documentation: http://pandas.pydata.org/pandas-docs/stable/indexing.html#indexing-view-versus-copy\n",
      "  from ipykernel import kernelapp as app\n",
      "/Users/nicholasrossi/anaconda/lib/python3.5/site-packages/ipykernel/__main__.py:3: SettingWithCopyWarning: \n",
      "A value is trying to be set on a copy of a slice from a DataFrame\n",
      "\n",
      "See the caveats in the documentation: http://pandas.pydata.org/pandas-docs/stable/indexing.html#indexing-view-versus-copy\n",
      "  app.launch_new_instance()\n"
     ]
    }
   ],
   "source": [
    "data=pd.read_csv('data/megaframe.csv')\n",
    "data['Time of Death'][data['Time of Death']==0]=np.nan\n",
    "data['Time of Death'][data['Time of Death']==-1]=64\n",
    "data=data[~np.isnan(data['Time of Death'])]"
   ]
  },
  {
   "cell_type": "code",
   "execution_count": 26,
   "metadata": {},
   "outputs": [
    {
     "data": {
      "image/png": "[encoded data removed]",
      "text/plain": [
       "<matplotlib.figure.Figure at 0x106d72e48>"
      ]
     },
     "execution_count": 26,
     "metadata": {},
     "output_type": "execute_result"
    }
   ],
   "source": [
    "### Killing curve plots\n",
    "\n",
    "plt.close('all')\n",
    "fig,ax=plt.subplots()\n",
    "fig2,ax2=plt.subplots()\n",
    "strains=data['Strain'].unique()\n",
    "\n",
    "colorz = cm.tab20(np.linspace(0, 1, len(strains)))\n",
    "recs=[]\n",
    "\n",
    "for z,strain in enumerate(strains):\n",
    "    sliceo=data[data['Strain']==strain]\n",
    "    maxval=len(sliceo)\n",
    "    traj=[]\n",
    "    xvect=np.linspace(0,60*5,61)\n",
    "    for t in range(61):\n",
    "        traj.append((maxval-len(sliceo[sliceo['Time of Death']<=t]))/maxval)\n",
    "\n",
    "    ax.plot(xvect,traj,label=strain,color=colorz[z])\n",
    "    recs.append(mpatches.Rectangle((0, 0), 1, 1, fc=colorz[z]))\n",
    "\n",
    "    \n",
    "    ind=next(x[0] for x in enumerate(traj) if x[1] < .6)\n",
    "    start=np.mean(sliceo['Fluor1 mean'])\n",
    "    end=np.mean(sliceo['Fluor1 mean'][sliceo['Time of Death']>=ind])/start\n",
    "    ax2.bar(5-z,np.mean(sliceo['Fluor1 mean'][sliceo['Time of Death']>=ind])/start-1,color=colorz[z])\n",
    "\n",
    "#     ax2.scatter(1,5-z,color='black',s=100)\n",
    "#     ax2.scatter(np.mean(sliceo['Fluor1 mean'][sliceo['Time of Death']>=ind])/start,5-z,color=colorz[z],s=200)\n",
    "#     ax2.annotate('',xy=(end,5-z),\n",
    "#             xytext=(1,5-z), va='center', multialignment='right',\n",
    "#             arrowprops={'arrowstyle': '->', 'lw': 4, 'ec': 'grey','alpha': 0.25})\n",
    "ax.legend(recs, strains, title='Reporter', loc=1,ncol=2,bbox_to_anchor=(1.6, 1))\n",
    "ax.set_xlabel('Time (minutes)')\n",
    "ax.set_ylabel('% Cells alive')\n",
    "#fig.savefig('figures/killing_curves.png',dpi=300)\n",
    "fig2"
   ]
  },
  {
   "cell_type": "code",
   "execution_count": 27,
   "metadata": {},
   "outputs": [],
   "source": [
    "### arrow plots\n",
    "### Killing curve plots\n",
    "\n",
    "plt.close('all')\n",
    "fig2,ax2=plt.subplots()\n",
    "strains=data['Strain'].unique()\n",
    "\n",
    "colorz = cm.tab20(np.linspace(0, 1, len(strains)))\n",
    "recs=[]\n",
    "for z,strain in enumerate(strains):\n",
    "    sliceo=data[data['Strain']==strain]\n",
    "    maxval=len(sliceo)\n",
    "    traj=[]\n",
    "    xvect=np.linspace(0,60*5,61)\n",
    "    for t in range(61):\n",
    "        traj.append((maxval-len(sliceo[sliceo['Time of Death']<=t]))/maxval)\n",
    "\n",
    "    recs.append(mpatches.Rectangle((0, 0), 1, 1, fc=colorz[z]))\n",
    "\n",
    "    \n",
    "    ind=next(x[0] for x in enumerate(traj) if x[1] < .6)\n",
    "    start=np.mean(sliceo['Fluor1 mean'])\n",
    "    end=np.mean(sliceo['Fluor1 mean'][sliceo['Time of Death']>=ind])/start\n",
    "#     ax2.bar(5-z,np.mean(sliceo['Fluor1 mean'][sliceo['Time of Death']>=ind])/start-1,color=colorz[z])\n",
    "\n",
    "    ax2.scatter(1,5-z,color='black',s=100)\n",
    "    ax2.scatter(np.mean(sliceo['Fluor1 mean'][sliceo['Time of Death']>=ind])/start,5-z,color=colorz[z],s=200)\n",
    "    ax2.annotate('',xy=(end,5-z),\n",
    "    xytext=(1,5-z), va='center', multialignment='right',\n",
    "    arrowprops={'arrowstyle': '->', 'lw': 4, 'ec': 'grey','alpha': 0.25})\n",
    "#fig.savefig('figures/killing_curves.png',dpi=300)\n",
    "fig2.savefig('figures/arrow_plot.png',dpi=300)"
   ]
  },
  {
   "cell_type": "code",
   "execution_count": 59,
   "metadata": {},
   "outputs": [
    {
     "name": "stdout",
     "output_type": "stream",
     "text": [
      "marRAB cells do not die enough\n",
      "rpsT cells do not die enough\n"
     ]
    }
   ],
   "source": [
    "### logistic regression plots\n",
    "plt.close('all')    \n",
    "def model(x):\n",
    "    return 1 / (1 + np.exp(-x))\n",
    "fig,ax=plt.subplots()\n",
    "for z,strain in enumerate(strains):\n",
    "    sliceo=data[data['Strain']==strain]\n",
    "    maxval=len(sliceo)\n",
    "    traj=[]\n",
    "\n",
    "    for t in range(61):\n",
    "        traj.append((maxval-len(sliceo[sliceo['Time of Death']<=t]))/maxval)\n",
    "\n",
    "\n",
    "    try:\n",
    "        ind=next(x[0] for x in enumerate(traj) if x[1] < .4)\n",
    "    except:\n",
    "        print(strain+' cells do not die enough')\n",
    "        ind=61\n",
    "    \n",
    "    clf = linear_model.LogisticRegression(C=1e5, solver='lbfgs')\n",
    "\n",
    "\n",
    "    dead=sliceo[sliceo['Time of Death']<=ind]['Fluor1 mean'].values\n",
    "    alive=sliceo[sliceo['Time of Death']>ind]['Fluor1 mean'].values\n",
    "\n",
    "    data_tot=np.concatenate((dead, alive))\n",
    "    clf.fit(data_tot.reshape(-1, 1) , np.concatenate((np.zeros(len(dead)), np.ones(len(alive)))).reshape(-1, 1) )\n",
    "    X_test=np.linspace(min(data_tot),max(data_tot),1000)\n",
    "\n",
    "    loss = model(X_test * clf.coef_ + clf.intercept_).ravel()\n",
    "    ax.plot((X_test-min(data_tot))/(max(data_tot)-min(data_tot)), loss, color=colorz[z])\n",
    "ax.legend(recs, strains, title='Reporter', loc=1,ncol=2,bbox_to_anchor=(1.6, 1))\n",
    "\n",
    "fig.savefig('figures/logistic.png',dpi=300)\n"
   ]
  },
  {
   "cell_type": "code",
   "execution_count": 48,
   "metadata": {},
   "outputs": [
    {
     "ename": "StopIteration",
     "evalue": "",
     "output_type": "error",
     "traceback": [
      "\u001b[0;31m---------------------------------------------------------------------------\u001b[0m",
      "\u001b[0;31mStopIteration\u001b[0m                             Traceback (most recent call last)",
      "\u001b[0;32m<ipython-input-48-2ef15dfc3e0c>\u001b[0m in \u001b[0;36m<module>\u001b[0;34m()\u001b[0m\n\u001b[0;32m----> 1\u001b[0;31m \u001b[0mind\u001b[0m\u001b[0;34m=\u001b[0m\u001b[0mnext\u001b[0m\u001b[0;34m(\u001b[0m\u001b[0mx\u001b[0m\u001b[0;34m[\u001b[0m\u001b[0;36m0\u001b[0m\u001b[0;34m]\u001b[0m \u001b[0;32mfor\u001b[0m \u001b[0mx\u001b[0m \u001b[0;32min\u001b[0m \u001b[0menumerate\u001b[0m\u001b[0;34m(\u001b[0m\u001b[0mtraj\u001b[0m\u001b[0;34m)\u001b[0m \u001b[0;32mif\u001b[0m \u001b[0mx\u001b[0m\u001b[0;34m[\u001b[0m\u001b[0;36m1\u001b[0m\u001b[0;34m]\u001b[0m \u001b[0;34m<\u001b[0m \u001b[0;36m.5\u001b[0m\u001b[0;34m)\u001b[0m\u001b[0;34m\u001b[0m\u001b[0m\n\u001b[0m",
      "\u001b[0;31mStopIteration\u001b[0m: "
     ]
    }
   ],
   "source": [
    "ind=next(x[0] for x in enumerate(traj) if x[1] < .5)"
   ]
  },
  {
   "cell_type": "code",
   "execution_count": 3,
   "metadata": {},
   "outputs": [
    {
     "ename": "NameError",
     "evalue": "name 'maxval' is not defined",
     "output_type": "error",
     "traceback": [
      "\u001b[0;31m---------------------------------------------------------------------------\u001b[0m",
      "\u001b[0;31mNameError\u001b[0m                                 Traceback (most recent call last)",
      "\u001b[0;32m<ipython-input-3-445505ce7a47>\u001b[0m in \u001b[0;36m<module>\u001b[0;34m()\u001b[0m\n\u001b[1;32m      6\u001b[0m \u001b[0mxvect\u001b[0m\u001b[0;34m=\u001b[0m\u001b[0mnp\u001b[0m\u001b[0;34m.\u001b[0m\u001b[0mlinspace\u001b[0m\u001b[0;34m(\u001b[0m\u001b[0;36m0\u001b[0m\u001b[0;34m,\u001b[0m\u001b[0;36m60\u001b[0m\u001b[0;34m*\u001b[0m\u001b[0;36m5\u001b[0m\u001b[0;34m,\u001b[0m\u001b[0;36m61\u001b[0m\u001b[0;34m)\u001b[0m\u001b[0;34m\u001b[0m\u001b[0m\n\u001b[1;32m      7\u001b[0m \u001b[0;32mfor\u001b[0m \u001b[0mt\u001b[0m \u001b[0;32min\u001b[0m \u001b[0mrange\u001b[0m\u001b[0;34m(\u001b[0m\u001b[0;36m61\u001b[0m\u001b[0;34m)\u001b[0m\u001b[0;34m:\u001b[0m\u001b[0;34m\u001b[0m\u001b[0m\n\u001b[0;32m----> 8\u001b[0;31m     \u001b[0mtraj\u001b[0m\u001b[0;34m.\u001b[0m\u001b[0mappend\u001b[0m\u001b[0;34m(\u001b[0m\u001b[0;34m(\u001b[0m\u001b[0mmaxval\u001b[0m\u001b[0;34m-\u001b[0m\u001b[0mlen\u001b[0m\u001b[0;34m(\u001b[0m\u001b[0msliceo\u001b[0m\u001b[0;34m[\u001b[0m\u001b[0msliceo\u001b[0m\u001b[0;34m[\u001b[0m\u001b[0;34m'Time of Death'\u001b[0m\u001b[0;34m]\u001b[0m\u001b[0;34m<=\u001b[0m\u001b[0mt\u001b[0m\u001b[0;34m]\u001b[0m\u001b[0;34m)\u001b[0m\u001b[0;34m)\u001b[0m\u001b[0;34m/\u001b[0m\u001b[0mmaxval\u001b[0m\u001b[0;34m)\u001b[0m\u001b[0;34m\u001b[0m\u001b[0m\n\u001b[0m\u001b[1;32m      9\u001b[0m \u001b[0;34m\u001b[0m\u001b[0m\n\u001b[1;32m     10\u001b[0m \u001b[0mind\u001b[0m\u001b[0;34m=\u001b[0m\u001b[0mnext\u001b[0m\u001b[0;34m(\u001b[0m\u001b[0mx\u001b[0m\u001b[0;34m[\u001b[0m\u001b[0;36m0\u001b[0m\u001b[0;34m]\u001b[0m \u001b[0;32mfor\u001b[0m \u001b[0mx\u001b[0m \u001b[0;32min\u001b[0m \u001b[0menumerate\u001b[0m\u001b[0;34m(\u001b[0m\u001b[0mtraj\u001b[0m\u001b[0;34m)\u001b[0m \u001b[0;32mif\u001b[0m \u001b[0mx\u001b[0m\u001b[0;34m[\u001b[0m\u001b[0;36m1\u001b[0m\u001b[0;34m]\u001b[0m \u001b[0;34m<\u001b[0m \u001b[0;36m0.1\u001b[0m\u001b[0;34m)\u001b[0m\u001b[0;34m\u001b[0m\u001b[0m\n",
      "\u001b[0;31mNameError\u001b[0m: name 'maxval' is not defined"
     ]
    }
   ],
   "source": [
    "\n",
    "#### Distribution animations\n",
    "plt.close('all')\n",
    "fig,ax=plt.subplots()\n",
    "sliceo=data[data['Strain']=='rob']\n",
    "\n",
    "traj=[]\n",
    "xvect=np.linspace(0,60*5,61)\n",
    "for t in range(61):\n",
    "    traj.append((maxval-len(sliceo[sliceo['Time of Death']<=t]))/maxval)\n",
    "\n",
    "ind=next(x[0] for x in enumerate(traj) if x[1] < 0.1)\n",
    "        \n",
    "datum=sliceo['Fluor1 mean']\n",
    "datum2=sliceo['Fluor1 mean'][sliceo['Time of Death']>=ind]\n",
    "# probs, bons = np.histogram(sliceo['Fluor1 mean'], normed='True', bins=bins)\n",
    "# ax.plot(bons[1:], np.cumsum(probs / np.sum(probs)),  drawstyle='steps-pre')\n",
    "# probs, bons = np.histogram(sliceo['Fluor1 mean'][sliceo['Time of Death']>=ind], normed='True', bins=bins)\n",
    "# ax.plot(bons[1:], np.cumsum(probs / np.sum|(probs)),  drawstyle='steps-pre')\n",
    "# fig\n",
    "\n",
    "\n",
    "density = gaussian_kde(datum)\n",
    "xs = np.linspace(500,16000,200)\n",
    "density.covariance_factor = lambda : .25\n",
    "density._compute_covariance()\n",
    "ax.plot(xs,density(xs))\n",
    "\n",
    "density = gaussian_kde(datum2)\n",
    "density.covariance_factor = lambda : .25\n",
    "density._compute_covariance()\n",
    "ax.plot(xs,density(xs))\n",
    "\n",
    "ax.set_xscale('log')\n",
    "fig"
   ]
  },
  {
   "cell_type": "code",
   "execution_count": 62,
   "metadata": {},
   "outputs": [],
   "source": [
    "### animation of distribution\n",
    "plt.close('all')\n",
    "fig_animate,ax=plt.subplots()\n",
    "\n",
    "lines=[]\n",
    "sliceos=[data[data['Strain']=='rob'],data[data['Strain']=='purA']]\n",
    "colors=['#e684ae','teal']\n",
    "for n,l in enumerate(sliceos):\n",
    "    lines.append(ax.plot([],[],color=colors[n]))\n",
    "xs = np.linspace(500,16000,200)\n",
    "ax.set_xlim([500,16000])\n",
    "ax.set_xscale('log')\n",
    "ax.set_ylim([0,.0006])\n",
    "def animate(z):\n",
    "    for j,sliceo in enumerate(sliceos):\n",
    "        density = gaussian_kde(sliceo['Fluor1 mean'][sliceo['Time of Death']>=z])\n",
    "        density.covariance_factor = lambda : .25\n",
    "        density._compute_covariance()\n",
    "        ax.plot(xs,density(xs),color='grey',alpha=0.05)\n",
    "\n",
    "        lines[j][0].set_data(xs,density(xs))\n",
    "\n",
    "    return lines\n",
    "\n",
    "anim3 = animation.FuncAnimation(fig_animate, animate,frames=61,  blit=False)\n",
    "plt.tight_layout()\n",
    "anim3.save('evolution.mp4', writer='ffmpeg',bitrate=1800)\n",
    "#HTML(anim3.to_html5_video())"
   ]
  },
  {
   "cell_type": "code",
   "execution_count": 77,
   "metadata": {},
   "outputs": [
    {
     "data": {
      "text/plain": [
       "array(['marRAB', 'gadX', 'crp', 'ompF', 'sigma70', 'SoxS'], dtype=object)"
      ]
     },
     "execution_count": 77,
     "metadata": {},
     "output_type": "execute_result"
    }
   ],
   "source": [
    "data['Strain'].unique()"
   ]
  },
  {
   "cell_type": "code",
   "execution_count": null,
   "metadata": {},
   "outputs": [],
   "source": []
  }
 ],
 "metadata": {
  "anaconda-cloud": {},
  "kernelspec": {
   "display_name": "Python [conda env:anaconda]",
   "language": "python",
   "name": "conda-env-anaconda-py"
  },
  "language_info": {
   "codemirror_mode": {
    "name": "ipython",
    "version": 3
   },
   "file_extension": ".py",
   "mimetype": "text/x-python",
   "name": "python",
   "nbconvert_exporter": "python",
   "pygments_lexer": "ipython3",
   "version": "3.5.2"
  }
 },
 "nbformat": 4,
 "nbformat_minor": 1
}
